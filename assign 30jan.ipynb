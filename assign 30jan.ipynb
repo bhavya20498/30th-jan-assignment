{
 "cells": [
  {
   "cell_type": "code",
   "execution_count": null,
   "id": "f3878e8f-9f41-4ad1-a856-4d030260bdec",
   "metadata": {},
   "outputs": [],
   "source": [
    "'''assignment 2 "
   ]
  },
  {
   "cell_type": "code",
   "execution_count": 6,
   "id": "a7623acc-761e-491d-b7a3-e7c811fb3acc",
   "metadata": {},
   "outputs": [
    {
     "name": "stdin",
     "output_type": "stream",
     "text": [
      "enter ur percentage 79\n"
     ]
    },
    {
     "name": "stdout",
     "output_type": "stream",
     "text": [
      "C grade\n"
     ]
    }
   ],
   "source": [
    "'''1 answer'''\n",
    "percntg=int(input('enter ur percentage'))\n",
    "if percntg >90:\n",
    "    print('A grade')\n",
    "elif percntg>80 and percntg<=90:\n",
    "    print('B grade')\n",
    "elif percntg>=60 and percntg<=80:\n",
    "    print('C grade')\n",
    "else:\n",
    "    print('D grade')"
   ]
  },
  {
   "cell_type": "code",
   "execution_count": 8,
   "id": "96c156b3-759b-4916-83d6-d02f2f94cbda",
   "metadata": {},
   "outputs": [
    {
     "name": "stdin",
     "output_type": "stream",
     "text": [
      "enter the cost price of ur bike in Rs 53000\n"
     ]
    },
    {
     "name": "stdout",
     "output_type": "stream",
     "text": [
      "5300.0\n"
     ]
    }
   ],
   "source": [
    "'''2 answer'''\n",
    "cp=int(input('enter the cost price of ur bike in Rs'))\n",
    "if cp>100000:\n",
    "    tax= (15/100)*cp\n",
    "    print(tax)\n",
    "elif cp>50000 and cp<=100000:\n",
    "    tax= (10/100)*cp\n",
    "    print(tax)\n",
    "else:\n",
    "    tax= (5/100)*cp\n",
    "    print(tax)\n",
    "    \n",
    "    "
   ]
  },
  {
   "cell_type": "code",
   "execution_count": 13,
   "id": "5f87d498-26d3-4b09-b93e-48842debd683",
   "metadata": {},
   "outputs": [
    {
     "name": "stdin",
     "output_type": "stream",
     "text": [
      "enter city jaipur\n"
     ]
    },
    {
     "name": "stdout",
     "output_type": "stream",
     "text": [
      "monument is jal mahal\n"
     ]
    }
   ],
   "source": [
    "'''3 answer'''\n",
    "city=input('enter city')\n",
    "if city =='delhi':\n",
    "    print('monument in delhi is RED FORT ')\n",
    "elif city=='Agra':\n",
    "    print('monument in Agra is Taj Mahal')\n",
    "elif city=='jaipur':\n",
    "    print('monument is jal mahal')\n",
    "    \n",
    "    "
   ]
  },
  {
   "cell_type": "code",
   "execution_count": 1,
   "id": "3103edc9-8a0d-4a55-8298-de78aab2ef85",
   "metadata": {},
   "outputs": [
    {
     "data": {
      "text/plain": [
       "55"
      ]
     },
     "execution_count": 1,
     "metadata": {},
     "output_type": "execute_result"
    }
   ],
   "source": [
    "'''5 answer\n",
    "while loop is used to repeat a specific block of code, an unknown number of times\n",
    ",until a condition is met.when the codition becomes false the line just after the loop \n",
    "in program gets executed.\n",
    "for example if we wish to sum first 10 natural numbers.following will be the code for same using while loop'''\n",
    "sum=0\n",
    "counter=1\n",
    "while counter<=10:\n",
    "    sum=sum+counter\n",
    "    counter+=1\n",
    "sum"
   ]
  },
  {
   "cell_type": "code",
   "execution_count": 4,
   "id": "a3cbeeec-3d3f-413b-9712-e48f75a8e63e",
   "metadata": {},
   "outputs": [
    {
     "name": "stdout",
     "output_type": "stream",
     "text": [
      "10\n",
      "9\n",
      "8\n",
      "7\n",
      "6\n",
      "5\n",
      "4\n",
      "3\n",
      "2\n",
      "1\n"
     ]
    }
   ],
   "source": [
    "'''7 answer'''\n",
    "count=10\n",
    "while count>=1:\n",
    "    print(count)\n",
    "    count=count-1\n",
    "    "
   ]
  },
  {
   "cell_type": "code",
   "execution_count": 5,
   "id": "82f106f2-2437-48b7-977e-83ac4eee3787",
   "metadata": {},
   "outputs": [
    {
     "data": {
      "text/plain": [
       "'8th question is same as 7th'"
      ]
     },
     "execution_count": 5,
     "metadata": {},
     "output_type": "execute_result"
    }
   ],
   "source": [
    "'''8th question is same as 7th'''\n"
   ]
  },
  {
   "cell_type": "code",
   "execution_count": 1,
   "id": "ba6a78ab-fbfb-4814-a01d-f110d3dfacf4",
   "metadata": {},
   "outputs": [
    {
     "name": "stdin",
     "output_type": "stream",
     "text": [
      "enter row upto which u want to print 5\n"
     ]
    },
    {
     "name": "stdout",
     "output_type": "stream",
     "text": [
      "*\n",
      "**\n",
      "***\n",
      "****\n",
      "*****\n"
     ]
    }
   ],
   "source": [
    "'''6 answer'''\n",
    "n=int(input('enter row upto which u want to print'))\n",
    "i=1\n",
    "while i<=n:\n",
    "    j=1\n",
    "    while j<=i:\n",
    "        print('*',end='')\n",
    "        j+=1\n",
    "    print()\n",
    "    i+=1\n",
    "    "
   ]
  },
  {
   "cell_type": "code",
   "execution_count": 2,
   "id": "067e2d20-6de1-462e-b67e-01f992bb2e09",
   "metadata": {},
   "outputs": [
    {
     "name": "stdin",
     "output_type": "stream",
     "text": [
      "enter row upto which u want to print 5\n"
     ]
    },
    {
     "name": "stdout",
     "output_type": "stream",
     "text": [
      "    *\n",
      "   **\n",
      "  ***\n",
      " ****\n",
      "*****\n"
     ]
    }
   ],
   "source": [
    "'''6th answer'''\n",
    "n=int(input('enter row upto which u want to print'))\n",
    "i=1\n",
    "while i<=n:\n",
    "    b=1\n",
    "    while b<=n-i:\n",
    "        print(\" \",end='')\n",
    "        b+=1\n",
    "    j=1\n",
    "    while j<=i:\n",
    "        print('*',end='')\n",
    "        j+=1\n",
    "    print()\n",
    "    i+=1"
   ]
  },
  {
   "cell_type": "code",
   "execution_count": 4,
   "id": "596195b2-a351-454a-92e3-91fbea2ab1d2",
   "metadata": {},
   "outputs": [
    {
     "name": "stdin",
     "output_type": "stream",
     "text": [
      "enter row upto which u want to print 5\n"
     ]
    },
    {
     "name": "stdout",
     "output_type": "stream",
     "text": [
      "    *\n",
      "   ***\n",
      "  *****\n",
      " *******\n",
      "*********\n"
     ]
    }
   ],
   "source": [
    "n=int(input('enter row upto which u want to print'))\n",
    "i=1\n",
    "k=1\n",
    "while i<=n:\n",
    "    b=1\n",
    "    while b<=n-i:\n",
    "        print(\" \",end='')\n",
    "        b+=1\n",
    "    j=1\n",
    "    while j<=k:\n",
    "        print('*',end='')\n",
    "        j+=1\n",
    "    print()\n",
    "    i+=1\n",
    "    k+=2"
   ]
  },
  {
   "cell_type": "code",
   "execution_count": null,
   "id": "50a38ff2-b404-49de-b161-8d691f4ffd20",
   "metadata": {},
   "outputs": [],
   "source": []
  }
 ],
 "metadata": {
  "kernelspec": {
   "display_name": "Python 3 (ipykernel)",
   "language": "python",
   "name": "python3"
  },
  "language_info": {
   "codemirror_mode": {
    "name": "ipython",
    "version": 3
   },
   "file_extension": ".py",
   "mimetype": "text/x-python",
   "name": "python",
   "nbconvert_exporter": "python",
   "pygments_lexer": "ipython3",
   "version": "3.10.6"
  }
 },
 "nbformat": 4,
 "nbformat_minor": 5
}
